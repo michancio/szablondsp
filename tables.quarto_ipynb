{
  "cells": [
    {
      "cell_type": "raw",
      "metadata": {},
      "source": [
        "---\n",
        "title: \"Tables\"\n",
        "tbl-cap-location: bottom\n",
        "---\n",
        "\n",
        "---"
      ],
      "id": "6e94c4a4"
    },
    {
      "cell_type": "markdown",
      "metadata": {},
      "source": [
        "title: \"Przykładowa tabela\"\n",
        "format: html\n",
        "---\n",
        "\n",
        "```{css}\n",
        "table {\n",
        "  border-collapse: collapse;\n",
        "  width: 100%;\n",
        "}\n",
        "\n",
        "table, th, td {\n",
        "  border: 2px solid #4CAF50;  /* Zmienia kolor i grubość obramowania */\n",
        "}\n",
        "\n",
        "th, td {\n",
        "  padding: 8px;\n",
        "  text-align: left;\n",
        "}\n",
        "\n",
        "th {\n",
        "  background-color: #4CAF50;  /* Kolor tła nagłówków */\n",
        "  color: white;\n",
        "}\n",
        "\n",
        "```\n",
        "\n",
        "\n",
        "\n",
        "\n",
        "\n",
        "\n",
        "\n",
        "\n",
        "## Tables\n",
        "\n",
        "### Markdown Tables\n",
        "\n",
        "| Default | Left | Right | Center |\n",
        "|---------|:-----|------:|:------:|\n",
        "| 12      | 12   |    12 |   12   |\n",
        "| 123     | 123  |   123 |  123   |\n",
        "| 1       | 1    |     1 |   1    |\n",
        "\n",
        ": My Caption {#tbl-letters} {.striped .hover}\n",
        "\n",
        "When reviewing a document you often want to provide inline comments with suggested revisions. This is possible in Quarto using HTML comments (which are ignored by all output formats). Visual mode includes a command for inserting HTML comments as well as special highlighting <!--# I to jest komentarz --> treatment to easily parse out editing <!--# czcz -->comments from surrounding text.\n",
        "\n",
        "## See @tbl-letters\n"
      ],
      "id": "0c1346ec"
    }
  ],
  "metadata": {
    "kernelspec": {
      "display_name": "Python 3",
      "language": "python",
      "name": "python3"
    }
  },
  "nbformat": 4,
  "nbformat_minor": 5
}